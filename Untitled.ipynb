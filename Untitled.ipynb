{
 "cells": [
  {
   "cell_type": "code",
   "execution_count": 1,
   "id": "ca37beaa-7988-49d4-99ab-6af2ff93b100",
   "metadata": {},
   "outputs": [],
   "source": [
    "import json\n",
    "\n",
    "with open('./documents.json', 'rt') as f_in:\n",
    "    documents_file = json.load(f_in)\n",
    "\n",
    "documents = []\n",
    "\n",
    "for course in documents_file:\n",
    "    course_name = course['course']\n",
    "\n",
    "    for doc in course['documents']:\n",
    "        doc['course'] = course_name\n",
    "        documents.append(doc)"
   ]
  },
  {
   "cell_type": "code",
   "execution_count": 21,
   "id": "56ebb702-d6e4-4177-9a85-7c655e9da51d",
   "metadata": {},
   "outputs": [],
   "source": [
    "for i in range(len(documents)):\n",
    "    documents[i]['doc_id'] = str(i)"
   ]
  },
  {
   "cell_type": "code",
   "execution_count": 22,
   "id": "82e01f69-cbed-48b6-948c-9842ba73772f",
   "metadata": {},
   "outputs": [
    {
     "data": {
      "text/plain": [
       "{'text': \"No, you can only get a certificate if you finish the course with a “live” cohort. We don't award certificates for the self-paced mode. The reason is you need to peer-review capstone(s) after submitting a project. You can only peer-review projects at the time the course is running.\",\n",
       " 'section': 'General course-related questions',\n",
       " 'question': 'Certificate - Can I follow the course in a self-paced mode and get a certificate?',\n",
       " 'course': 'data-engineering-zoomcamp',\n",
       " 'doc_id': '11'}"
      ]
     },
     "execution_count": 22,
     "metadata": {},
     "output_type": "execute_result"
    }
   ],
   "source": [
    "documents[11]"
   ]
  },
  {
   "cell_type": "code",
   "execution_count": 3,
   "id": "ac0bd802-8ba6-414a-9133-40c16dca1246",
   "metadata": {},
   "outputs": [
    {
     "data": {
      "text/plain": [
       "{'text': \"No, you can only get a certificate if you finish the course with a “live” cohort. We don't award certificates for the self-paced mode. The reason is you need to peer-review capstone(s) after submitting a project. You can only peer-review projects at the time the course is running.\",\n",
       " 'section': 'General course-related questions',\n",
       " 'question': 'Certificate - Can I follow the course in a self-paced mode and get a certificate?',\n",
       " 'course': 'data-engineering-zoomcamp'}"
      ]
     },
     "execution_count": 3,
     "metadata": {},
     "output_type": "execute_result"
    }
   ],
   "source": [
    "documents[11]"
   ]
  },
  {
   "cell_type": "code",
   "execution_count": 5,
   "id": "72f33a8a-1258-46b7-8e48-aae0fcdf6450",
   "metadata": {},
   "outputs": [],
   "source": [
    "from groq import Groq\n",
    "client = Groq()"
   ]
  },
  {
   "cell_type": "code",
   "execution_count": 7,
   "id": "3a30ef68-9aa5-4a23-8d73-a5b366d6a102",
   "metadata": {},
   "outputs": [],
   "source": [
    "prompt_template = \"\"\"\n",
    "You emulate a student who's taking our course.\n",
    "Formulate 5 questions this student might ask based on a FAQ record. The record\n",
    "should contain the answer to the questions, and the questions should be complete and not too short.\n",
    "If possible, use as fewer words as possible from the record. \n",
    "\n",
    "The record:\n",
    "\n",
    "section: {section}\n",
    "question: {question}\n",
    "answer: {text}\n",
    "\n",
    "Provide the output in parsable JSON without using code blocks:\n",
    "\n",
    "[\"question1\", \"question2\", ..., \"question5\"]\n",
    "\"\"\".strip()"
   ]
  },
  {
   "cell_type": "code",
   "execution_count": 8,
   "id": "1de18266-8108-4421-80b1-9e45deaf77df",
   "metadata": {},
   "outputs": [],
   "source": [
    "doc = documents[11]"
   ]
  },
  {
   "cell_type": "code",
   "execution_count": 10,
   "id": "e73e57fb-90e5-417f-9bd2-d6588f77e770",
   "metadata": {},
   "outputs": [],
   "source": [
    "prompt = prompt_template.format(**doc)"
   ]
  },
  {
   "cell_type": "code",
   "execution_count": 11,
   "id": "f797357a-6190-46db-9512-29bcab493bbf",
   "metadata": {},
   "outputs": [
    {
     "name": "stdout",
     "output_type": "stream",
     "text": [
      "You emulate a student who's taking our course.\n",
      "Formulate 5 questions this student might ask based on a FAQ record. The record\n",
      "should contain the answer to the questions, and the questions should be complete and not too short.\n",
      "If possible, use as fewer words as possible from the record. \n",
      "\n",
      "The record:\n",
      "\n",
      "section: General course-related questions\n",
      "question: Certificate - Can I follow the course in a self-paced mode and get a certificate?\n",
      "answer: No, you can only get a certificate if you finish the course with a “live” cohort. We don't award certificates for the self-paced mode. The reason is you need to peer-review capstone(s) after submitting a project. You can only peer-review projects at the time the course is running.\n",
      "\n",
      "Provide the output in parsable JSON without using code blocks:\n",
      "\n",
      "[\"question1\", \"question2\", ..., \"question5\"]\n"
     ]
    }
   ],
   "source": [
    "print(prompt)"
   ]
  },
  {
   "cell_type": "code",
   "execution_count": 12,
   "id": "cbb7f4ec-243e-4f34-9162-42efa4369cb4",
   "metadata": {},
   "outputs": [
    {
     "name": "stdout",
     "output_type": "stream",
     "text": [
      "[\"Can I complete the course on my own and receive a completion certificate\", \n",
      "\"Is it possible to get a certificate after finishing the course in a self-paced mode\", \n",
      "\"Will I be able to obtain a certificate if I'm not part of a 'live' cohort\", \n",
      "\"Are certificates awarded to students who choose the self-paced course format\", \n",
      "\"Can self-paced learners receive a certificate after completing the course\"]\n"
     ]
    }
   ],
   "source": [
    "response = client.chat.completions.create(\n",
    "    model=\"llama-3.1-70b-versatile\",\n",
    "    messages=[{\"role\": \"user\", \"content\": prompt}]\n",
    ")\n",
    "print(response.choices[0].message.content)"
   ]
  },
  {
   "cell_type": "code",
   "execution_count": 14,
   "id": "5d4f499d-e46f-4cfd-90c5-edfd59653d3c",
   "metadata": {},
   "outputs": [
    {
     "data": {
      "text/plain": [
       "948"
      ]
     },
     "execution_count": 14,
     "metadata": {},
     "output_type": "execute_result"
    }
   ],
   "source": [
    "len(documents)"
   ]
  },
  {
   "cell_type": "code",
   "execution_count": null,
   "id": "eae84ed1-57c7-42fb-9c53-2a86ae392232",
   "metadata": {},
   "outputs": [],
   "source": []
  }
 ],
 "metadata": {
  "kernelspec": {
   "display_name": "Python 3 (ipykernel)",
   "language": "python",
   "name": "python3"
  },
  "language_info": {
   "codemirror_mode": {
    "name": "ipython",
    "version": 3
   },
   "file_extension": ".py",
   "mimetype": "text/x-python",
   "name": "python",
   "nbconvert_exporter": "python",
   "pygments_lexer": "ipython3",
   "version": "3.12.1"
  }
 },
 "nbformat": 4,
 "nbformat_minor": 5
}
