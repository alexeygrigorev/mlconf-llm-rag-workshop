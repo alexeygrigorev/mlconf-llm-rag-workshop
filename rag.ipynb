{
 "cells": [
  {
   "cell_type": "code",
   "execution_count": 1,
   "id": "d3127129-360a-4549-bf8e-b068784dc44c",
   "metadata": {},
   "outputs": [],
   "source": [
    "import groq"
   ]
  },
  {
   "cell_type": "code",
   "execution_count": 2,
   "id": "fdda991f-b434-49a6-9a9c-baf96e951c79",
   "metadata": {},
   "outputs": [
    {
     "data": {
      "text/plain": [
       "ObjectApiResponse({'name': '9b1256e32511', 'cluster_name': 'docker-cluster', 'cluster_uuid': 'X40R5Gw2RQag9GkQLmpAdg', 'version': {'number': '8.4.3', 'build_flavor': 'default', 'build_type': 'docker', 'build_hash': '42f05b9372a9a4a470db3b52817899b99a76ee73', 'build_date': '2022-10-04T07:17:24.662462378Z', 'build_snapshot': False, 'lucene_version': '9.3.0', 'minimum_wire_compatibility_version': '7.17.0', 'minimum_index_compatibility_version': '7.0.0'}, 'tagline': 'You Know, for Search'})"
      ]
     },
     "execution_count": 2,
     "metadata": {},
     "output_type": "execute_result"
    }
   ],
   "source": [
    "from elasticsearch import Elasticsearch\n",
    "\n",
    "es = Elasticsearch(\"http://localhost:9200\")\n",
    "es.info()"
   ]
  },
  {
   "cell_type": "code",
   "execution_count": 8,
   "id": "6b67f2c2-2b85-453c-92a2-df87632c54ef",
   "metadata": {},
   "outputs": [
    {
     "name": "stdout",
     "output_type": "stream",
     "text": [
      "--2024-11-26 09:04:44--  https://github.com/alexeygrigorev/llm-rag-workshop/raw/main/notebooks/documents.json\n",
      "Resolving github.com (github.com)... 140.82.121.3\n",
      "Connecting to github.com (github.com)|140.82.121.3|:443... connected.\n",
      "HTTP request sent, awaiting response... 302 Found\n",
      "Location: https://raw.githubusercontent.com/alexeygrigorev/llm-rag-workshop/main/notebooks/documents.json [following]\n",
      "--2024-11-26 09:04:44--  https://raw.githubusercontent.com/alexeygrigorev/llm-rag-workshop/main/notebooks/documents.json\n",
      "Resolving raw.githubusercontent.com (raw.githubusercontent.com)... 185.199.109.133, 185.199.110.133, 185.199.111.133, ...\n",
      "Connecting to raw.githubusercontent.com (raw.githubusercontent.com)|185.199.109.133|:443... connected.\n",
      "HTTP request sent, awaiting response... 200 OK\n",
      "Length: 658332 (643K) [text/plain]\n",
      "Saving to: ‘documents.json’\n",
      "\n",
      "documents.json      100%[===================>] 642.90K  --.-KB/s    in 0.009s  \n",
      "\n",
      "2024-11-26 09:04:44 (67.0 MB/s) - ‘documents.json’ saved [658332/658332]\n",
      "\n"
     ]
    }
   ],
   "source": [
    "!wget https://github.com/alexeygrigorev/llm-rag-workshop/raw/main/notebooks/documents.json"
   ]
  },
  {
   "cell_type": "code",
   "execution_count": 6,
   "id": "e00f6cb6-87a9-40bb-b633-caf8f02207e4",
   "metadata": {},
   "outputs": [
    {
     "name": "stdout",
     "output_type": "stream",
     "text": [
      "[\n",
      "  {\n",
      "    \"course\": \"data-engineering-zoomcamp\",\n",
      "    \"documents\": [\n",
      "      {\n",
      "        \"text\": \"The purpose of this document is to capture frequently asked technical questions\\nThe exact day and hour of the course will be 15th Jan 2024 at 17h00. The course will start with the first  \\u201cOffice Hours'' live.1\\nSubscribe to course public Google Calendar (it works from Desktop only).\\nRegister before the course starts using this link.\\nJoin the course Telegram channel with announcements.\\nDon\\u2019t forget to register in DataTalks.Club's Slack and join the channel.\",\n",
      "        \"section\": \"General course-related questions\",\n",
      "        \"question\": \"Course - When will the course start?\"\n",
      "      },\n",
      "      {\n"
     ]
    }
   ],
   "source": [
    "!head documents.json"
   ]
  },
  {
   "cell_type": "code",
   "execution_count": 3,
   "id": "c2a6f033-b854-4acc-bdad-1951208376c0",
   "metadata": {},
   "outputs": [],
   "source": [
    "import json\n",
    "\n",
    "with open('./documents.json', 'rt') as f_in:\n",
    "    documents_file = json.load(f_in)"
   ]
  },
  {
   "cell_type": "code",
   "execution_count": 4,
   "id": "ffb170b7-2506-40ae-887c-b31db7257bc1",
   "metadata": {},
   "outputs": [],
   "source": [
    "documents = []\n",
    "\n",
    "for course in documents_file:\n",
    "    course_name = course['course']\n",
    "\n",
    "    for doc in course['documents']:\n",
    "        doc['course'] = course_name\n",
    "        documents.append(doc)"
   ]
  },
  {
   "cell_type": "code",
   "execution_count": 15,
   "id": "91af66ae-ed42-4c00-b03c-36ce01246b7e",
   "metadata": {},
   "outputs": [],
   "source": [
    "import hashlib\n",
    "\n",
    "def generate_document_id(doc):\n",
    "    # combined = f\"{doc['course']}-{doc['question']}\"\n",
    "    combined = f\"{doc['course']}-{doc['question']}-{doc['text'][:10]}\"\n",
    "    hash_object = hashlib.md5(combined.encode())\n",
    "    hash_hex = hash_object.hexdigest()\n",
    "    document_id = hash_hex[:8]\n",
    "    return document_id"
   ]
  },
  {
   "cell_type": "code",
   "execution_count": 16,
   "id": "f4ba8abe-63da-479e-b1a0-3e66822075b5",
   "metadata": {},
   "outputs": [],
   "source": [
    "for i in range(len(documents)):\n",
    "    doc = documents[i]\n",
    "    doc['doc_id'] = generate_document_id(doc)"
   ]
  },
  {
   "cell_type": "code",
   "execution_count": 17,
   "id": "e052dddf-9ef4-4a87-b440-7e9febd97776",
   "metadata": {},
   "outputs": [
    {
     "data": {
      "text/plain": [
       "{'text': \"The purpose of this document is to capture frequently asked technical questions\\nThe exact day and hour of the course will be 15th Jan 2024 at 17h00. The course will start with the first  “Office Hours'' live.1\\nSubscribe to course public Google Calendar (it works from Desktop only).\\nRegister before the course starts using this link.\\nJoin the course Telegram channel with announcements.\\nDon’t forget to register in DataTalks.Club's Slack and join the channel.\",\n",
       " 'section': 'General course-related questions',\n",
       " 'question': 'Course - When will the course start?',\n",
       " 'course': 'data-engineering-zoomcamp',\n",
       " 'doc_id': 'c02e79ef'}"
      ]
     },
     "execution_count": 17,
     "metadata": {},
     "output_type": "execute_result"
    }
   ],
   "source": [
    "documents[0]"
   ]
  },
  {
   "cell_type": "code",
   "execution_count": 21,
   "id": "fdceff92-1170-4be0-b283-9c61c8789ab1",
   "metadata": {},
   "outputs": [
    {
     "data": {
      "text/plain": [
       "ObjectApiResponse({'acknowledged': True, 'shards_acknowledged': True, 'index': 'course-questions'})"
      ]
     },
     "execution_count": 21,
     "metadata": {},
     "output_type": "execute_result"
    }
   ],
   "source": [
    "index_settings = {\n",
    "    \"settings\": {\n",
    "        \"number_of_shards\": 1,\n",
    "        \"number_of_replicas\": 0\n",
    "    },\n",
    "    \"mappings\": {\n",
    "        \"properties\": {\n",
    "            \"text\": {\"type\": \"text\"},\n",
    "            \"section\": {\"type\": \"text\"},\n",
    "            \"question\": {\"type\": \"text\"},\n",
    "            \"course\": {\"type\": \"keyword\"},\n",
    "            \"doc_id\": {\"type\": \"keyword\"}\n",
    "        }\n",
    "    }\n",
    "}\n",
    "\n",
    "index_name = \"course-questions\"\n",
    "response = es.indices.delete(index=index_name)\n",
    "response = es.indices.create(index=index_name, body=index_settings)\n",
    "\n",
    "response"
   ]
  },
  {
   "cell_type": "code",
   "execution_count": 19,
   "id": "de000d65-2685-45f9-8521-b1f6e50c4146",
   "metadata": {},
   "outputs": [
    {
     "data": {
      "text/plain": [
       "{'text': \"The purpose of this document is to capture frequently asked technical questions\\nThe exact day and hour of the course will be 15th Jan 2024 at 17h00. The course will start with the first  “Office Hours'' live.1\\nSubscribe to course public Google Calendar (it works from Desktop only).\\nRegister before the course starts using this link.\\nJoin the course Telegram channel with announcements.\\nDon’t forget to register in DataTalks.Club's Slack and join the channel.\",\n",
       " 'section': 'General course-related questions',\n",
       " 'question': 'Course - When will the course start?',\n",
       " 'course': 'data-engineering-zoomcamp',\n",
       " 'doc_id': 'c02e79ef'}"
      ]
     },
     "execution_count": 19,
     "metadata": {},
     "output_type": "execute_result"
    }
   ],
   "source": [
    "documents[0]"
   ]
  },
  {
   "cell_type": "code",
   "execution_count": 22,
   "id": "2d8d2f11-9548-479c-b19e-cd0c84c0c755",
   "metadata": {},
   "outputs": [
    {
     "data": {
      "application/vnd.jupyter.widget-view+json": {
       "model_id": "ade58859dcf84871b7d389418f6fdc23",
       "version_major": 2,
       "version_minor": 0
      },
      "text/plain": [
       "  0%|          | 0/948 [00:00<?, ?it/s]"
      ]
     },
     "metadata": {},
     "output_type": "display_data"
    }
   ],
   "source": [
    "from tqdm.auto import tqdm\n",
    "\n",
    "for doc in tqdm(documents):\n",
    "    es.index(index=index_name, document=doc)"
   ]
  },
  {
   "cell_type": "code",
   "execution_count": 23,
   "id": "813c6008-01e6-4fdf-8ea1-a53ba7b9f826",
   "metadata": {},
   "outputs": [
    {
     "data": {
      "text/plain": [
       "{'text': \"Yes, even if you don't register, you're still eligible to submit the homeworks.\\nBe aware, however, that there will be deadlines for turning in the final projects. So don't leave everything for the last minute.\",\n",
       " 'section': 'General course-related questions',\n",
       " 'question': 'Course - Can I still join the course after the start date?',\n",
       " 'course': 'data-engineering-zoomcamp',\n",
       " 'doc_id': '7842b56a'}"
      ]
     },
     "execution_count": 23,
     "metadata": {},
     "output_type": "execute_result"
    }
   ],
   "source": [
    "documents[2]"
   ]
  },
  {
   "cell_type": "code",
   "execution_count": 60,
   "id": "61c0e73f-8c66-4778-be32-b19da83a478d",
   "metadata": {},
   "outputs": [],
   "source": [
    "def retrieve_documents(query,\n",
    "           index_name=\"course-questions\",\n",
    "           max_results=5,\n",
    "           course=\"data-engineering-zoomcamp\"):  \n",
    "    search_query = {\n",
    "        \"size\": max_results,\n",
    "        \"query\": {\n",
    "            \"bool\": {\n",
    "                \"must\": {\n",
    "                    \"multi_match\": {\n",
    "                        \"query\": query,\n",
    "                        # \"fields\": [\"question^3\", \"text\", \"section\"],\n",
    "                        \"fields\": [\"question\", \"text^3\"],\n",
    "                        \"type\": \"best_fields\"\n",
    "                    }\n",
    "                },\n",
    "                \"filter\": {\n",
    "                    \"term\": {\n",
    "                        \"course\": course\n",
    "                    }\n",
    "                }\n",
    "            }\n",
    "        }\n",
    "    }\n",
    "    \n",
    "    response = es.search(index=index_name, body=search_query)\n",
    "    documents = [hit['_source'] for hit in response['hits']['hits']]\n",
    "    return documents"
   ]
  },
  {
   "cell_type": "code",
   "execution_count": null,
   "id": "fe528060-14d5-4b38-bff2-c4e408b4f3ac",
   "metadata": {},
   "outputs": [],
   "source": [
    "user_question = \"How do I join the course after it has started?\"\n",
    "\n",
    "retrieve_documents(user_question)"
   ]
  },
  {
   "cell_type": "code",
   "execution_count": 45,
   "id": "6923e486-f948-4884-8ac9-1b74917b3a17",
   "metadata": {},
   "outputs": [],
   "source": [
    "api_key = 'gsk_***'"
   ]
  },
  {
   "cell_type": "code",
   "execution_count": 68,
   "id": "05e42a3d-8e4d-4fbd-a3cf-c086515643fa",
   "metadata": {},
   "outputs": [],
   "source": [
    "from groq import Groq\n",
    "#client = Groq(api_key=api_key)\n",
    "client = Groq()"
   ]
  },
  {
   "cell_type": "code",
   "execution_count": 69,
   "id": "87420fe7-81ee-4db8-9058-40cfd17b51bd",
   "metadata": {},
   "outputs": [
    {
     "name": "stdout",
     "output_type": "stream",
     "text": [
      "I'd be happy to help you with your inquiry.  However, I don't have information about a specific course. Can you please provide more details about the course, such as:\n",
      "\n",
      "* Where is the course being offered (e.g. online, in-person, university)?\n",
      "* Who is offering the course (e.g. instructor, organization)?\n",
      "* What type of course is it (e.g. academic, professional, hobby)?\n",
      "\n",
      "This will help me better understand your situation and provide a more informed answer.\n",
      "\n",
      "That being said, in general, it's possible to join a course after it has started, but it depends on various factors, such as:\n",
      "\n",
      "* Course format: Online courses might be more flexible, while in-person courses might be more difficult to join mid-semester.\n",
      "* Instructor's discretion: The instructor may allow late registration, but may also have specific requirements or conditions for joining late.\n",
      "* Availability of materials: You might need to catch up on missed materials, assignments, and discussions.\n",
      "\n",
      "Please provide more information, and I'll do my best to help you explore your options.\n"
     ]
    }
   ],
   "source": [
    "response = client.chat.completions.create(\n",
    "    model=\"llama-3.1-70b-versatile\",\n",
    "    messages=[{\"role\": \"user\", \"content\": \"The course already started. Can I still join?\"}]\n",
    ")\n",
    "print(response.choices[0].message.content)"
   ]
  },
  {
   "cell_type": "code",
   "execution_count": 30,
   "id": "10dc8447-b514-413d-accf-0ea1337d6989",
   "metadata": {},
   "outputs": [
    {
     "name": "stdout",
     "output_type": "stream",
     "text": [
      "Section: General course-related questions\n",
      "Question: Course - Can I still join the course after the start date?\n",
      "Answer: Yes, even if you don't register, you're still eligible to submit the homeworks.\n",
      "Be aware, however, that there will be deadlines for turning in the final projects. So don't leave everything for the last minute.\n",
      "\n",
      "Section: General course-related questions\n",
      "Question: Course - Can I follow the course after it finishes?\n",
      "Answer: Yes, we will keep all the materials after the course finishes, so you can follow the course at your own pace after it finishes.\n",
      "You can also continue looking at the homeworks and continue preparing for the next cohort. I guess you can also start working on your final capstone project.\n",
      "\n",
      "Section: General course-related questions\n",
      "Question: Course - What can I do before the course starts?\n",
      "Answer: You can start by installing and setting up all the dependencies and requirements:\n",
      "Google cloud account\n",
      "Google Cloud SDK\n",
      "Python 3 (installed with Anaconda)\n",
      "Terraform\n",
      "Git\n",
      "Look over the prerequisites and syllabus to see if you are comfortable with these subjects.\n",
      "\n",
      "Section: General course-related questions\n",
      "Question: How do I use Git / GitHub for this course?\n",
      "Answer: After you create a GitHub account, you should clone the course repo to your local machine using the process outlined in this video: Git for Everybody: How to Clone a Repository from GitHub\n",
      "Having this local repository on your computer will make it easy for you to access the instructors’ code and make pull requests (if you want to add your own notes or make changes to the course content).\n",
      "You will probably also create your own repositories that host your notes, versions of your file, to do this. Here is a great tutorial that shows you how to do this: https://www.atlassian.com/git/tutorials/setting-up-a-repository\n",
      "Remember to ignore large database, .csv, and .gz files, and other files that should not be saved to a repository. Use .gitignore for this: https://www.atlassian.com/git/tutorials/saving-changes/gitignore NEVER store passwords or keys in a git repo (even if that repo is set to private).\n",
      "This is also a great resource: https://dangitgit.com/\n",
      "\n",
      "Section: Workshop 1 - dlthub\n",
      "Question: How do I install the necessary dependencies to run the code?\n",
      "Answer: Answer: To run the provided code, ensure that the 'dlt[duckdb]' package is installed. You can do this by executing the provided installation command: !pip install dlt[duckdb]. If you’re doing it locally, be sure to also have duckdb pip installed (even before the duckdb package is loaded).\n"
     ]
    }
   ],
   "source": [
    "context_template = \"\"\"\n",
    "Section: {section}\n",
    "Question: {question}\n",
    "Answer: {text}\n",
    "\"\"\".strip()\n",
    "\n",
    "context_docs = retrieve_documents(user_question)\n",
    "\n",
    "context_result = \"\"\n",
    "\n",
    "for doc in context_docs:\n",
    "    doc_str = context_template.format(**doc)\n",
    "    context_result += (\"\\n\\n\" + doc_str)\n",
    "\n",
    "context = context_result.strip()\n",
    "print(context)"
   ]
  },
  {
   "cell_type": "code",
   "execution_count": 38,
   "id": "2c4e5e3d-ff96-4f29-8a68-8c5b306e885a",
   "metadata": {},
   "outputs": [],
   "source": [
    "prompt = f\"\"\"\n",
    "You're a course teaching assistant. Answer the user QUESTION based on CONTEXT - the documents retrieved from our FAQ database. \n",
    "Only use the facts from the CONTEXT. If the CONTEXT doesn't contan the answer, return \"NONE\"\n",
    "\n",
    "QUESTION: {user_question}\n",
    "\n",
    "CONTEXT:\n",
    "\n",
    "{context}\n",
    "\"\"\".strip()"
   ]
  },
  {
   "cell_type": "code",
   "execution_count": 39,
   "id": "3173dc36-5a99-4b8f-9d57-bbad004088eb",
   "metadata": {},
   "outputs": [
    {
     "name": "stdout",
     "output_type": "stream",
     "text": [
      "You're a course teaching assistant. Answer the user QUESTION based on CONTEXT - the documents retrieved from our FAQ database. \n",
      "Only use the facts from the CONTEXT. If the CONTEXT doesn't contan the answer, return \"NONE\"\n",
      "\n",
      "QUESTION: How do I join the course after it has started?\n",
      "\n",
      "CONTEXT:\n",
      "\n",
      "Section: General course-related questions\n",
      "Question: Course - Can I still join the course after the start date?\n",
      "Answer: Yes, even if you don't register, you're still eligible to submit the homeworks.\n",
      "Be aware, however, that there will be deadlines for turning in the final projects. So don't leave everything for the last minute.\n",
      "\n",
      "Section: General course-related questions\n",
      "Question: Course - Can I follow the course after it finishes?\n",
      "Answer: Yes, we will keep all the materials after the course finishes, so you can follow the course at your own pace after it finishes.\n",
      "You can also continue looking at the homeworks and continue preparing for the next cohort. I guess you can also start working on your final capstone project.\n",
      "\n",
      "Section: General course-related questions\n",
      "Question: Course - What can I do before the course starts?\n",
      "Answer: You can start by installing and setting up all the dependencies and requirements:\n",
      "Google cloud account\n",
      "Google Cloud SDK\n",
      "Python 3 (installed with Anaconda)\n",
      "Terraform\n",
      "Git\n",
      "Look over the prerequisites and syllabus to see if you are comfortable with these subjects.\n",
      "\n",
      "Section: General course-related questions\n",
      "Question: How do I use Git / GitHub for this course?\n",
      "Answer: After you create a GitHub account, you should clone the course repo to your local machine using the process outlined in this video: Git for Everybody: How to Clone a Repository from GitHub\n",
      "Having this local repository on your computer will make it easy for you to access the instructors’ code and make pull requests (if you want to add your own notes or make changes to the course content).\n",
      "You will probably also create your own repositories that host your notes, versions of your file, to do this. Here is a great tutorial that shows you how to do this: https://www.atlassian.com/git/tutorials/setting-up-a-repository\n",
      "Remember to ignore large database, .csv, and .gz files, and other files that should not be saved to a repository. Use .gitignore for this: https://www.atlassian.com/git/tutorials/saving-changes/gitignore NEVER store passwords or keys in a git repo (even if that repo is set to private).\n",
      "This is also a great resource: https://dangitgit.com/\n",
      "\n",
      "Section: Workshop 1 - dlthub\n",
      "Question: How do I install the necessary dependencies to run the code?\n",
      "Answer: Answer: To run the provided code, ensure that the 'dlt[duckdb]' package is installed. You can do this by executing the provided installation command: !pip install dlt[duckdb]. If you’re doing it locally, be sure to also have duckdb pip installed (even before the duckdb package is loaded).\n"
     ]
    }
   ],
   "source": [
    "print(prompt)"
   ]
  },
  {
   "cell_type": "code",
   "execution_count": 40,
   "id": "48a68130-52a1-4e06-a737-aa366f0e482f",
   "metadata": {},
   "outputs": [
    {
     "name": "stdout",
     "output_type": "stream",
     "text": [
      "You can still join the course after it has started as you're still eligible to submit the homeworks, but be aware of the deadlines for turning in the final projects.\n"
     ]
    }
   ],
   "source": [
    "response = client.chat.completions.create(\n",
    "    model=\"llama-3.1-70b-versatile\",\n",
    "    messages=[{\"role\": \"user\", \"content\": prompt}]\n",
    ")\n",
    "print(response.choices[0].message.content)"
   ]
  },
  {
   "cell_type": "code",
   "execution_count": 66,
   "id": "d15c3fd2-91a3-4eff-a797-fd8d5a9b60a7",
   "metadata": {},
   "outputs": [],
   "source": [
    "context_template = \"\"\"\n",
    "Section: {section}\n",
    "Question: {question}\n",
    "Answer: {text}\n",
    "\"\"\".strip()\n",
    "\n",
    "prompt_template = \"\"\"\n",
    "You're a course teaching assistant.\n",
    "Answer the user QUESTION based on CONTEXT - the documents retrieved from our FAQ database.\n",
    "Don't use other information outside of the provided CONTEXT.  \n",
    "\n",
    "QUESTION: {user_question}\n",
    "\n",
    "CONTEXT:\n",
    "\n",
    "{context}\n",
    "\"\"\".strip()\n",
    "\n",
    "\n",
    "def build_context(documents):\n",
    "    context_result = \"\"\n",
    "    \n",
    "    for doc in documents:\n",
    "        doc_str = context_template.format(**doc)\n",
    "        context_result += (\"\\n\\n\" + doc_str)\n",
    "    \n",
    "    return context_result.strip()\n",
    "\n",
    "\n",
    "def build_prompt(user_question, documents):\n",
    "    context = build_context(documents)\n",
    "    prompt = prompt_template.format(\n",
    "        user_question=user_question,\n",
    "        context=context\n",
    "    )\n",
    "    return prompt\n",
    "\n",
    "def ask_groq(prompt, model=\"llama-3.1-70b-versatile\"):\n",
    "    response = client.chat.completions.create(\n",
    "        model=model,\n",
    "        messages=[{\"role\": \"user\", \"content\": prompt}]\n",
    "    )\n",
    "    answer = response.choices[0].message.content\n",
    "    return answer\n",
    "\n",
    "# use ask_groq and model=\"llama3-8b-8192\" if using groq\n",
    "\n",
    "def qa_bot(user_question, course=\"data-engineering-zoomcamp\"):\n",
    "    context_docs = retrieve_documents(user_question, course=course)\n",
    "    prompt = build_prompt(user_question, context_docs)\n",
    "    answer = ask_groq(prompt)\n",
    "    return answer"
   ]
  },
  {
   "cell_type": "code",
   "execution_count": 44,
   "id": "c4530f6f-7c6c-4d13-821a-144f2b12721b",
   "metadata": {},
   "outputs": [
    {
     "data": {
      "text/plain": [
       "'Unfortunately, no, you cannot get a certificate if you take the course in the self-paced mode. According to our course policy, a certificate is only awarded to students who finish the course with a \"live\" cohort. This is because the course requires peer-reviewing capstones after submitting a project, which can only be done when the course is running.'"
      ]
     },
     "execution_count": 44,
     "metadata": {},
     "output_type": "execute_result"
    }
   ],
   "source": [
    "qa_bot(\"How can I get a certificate if I do the course in the self-paced mode?\")"
   ]
  },
  {
   "cell_type": "code",
   "execution_count": 25,
   "id": "1b5b8a8c-131d-4940-92f8-2bc7261a0262",
   "metadata": {},
   "outputs": [],
   "source": [
    "import pandas as pd"
   ]
  },
  {
   "cell_type": "code",
   "execution_count": 26,
   "id": "2210e8f6-e014-4bdd-aeaf-d0a8fde99258",
   "metadata": {},
   "outputs": [],
   "source": [
    "df_eval = pd.read_csv('ground-truth-data.csv')"
   ]
  },
  {
   "cell_type": "code",
   "execution_count": 28,
   "id": "98b359cc-32c4-4e42-bf12-0f9376c678b0",
   "metadata": {},
   "outputs": [
    {
     "data": {
      "text/plain": [
       "course\n",
       "data-engineering-zoomcamp    2123\n",
       "machine-learning-zoomcamp    1830\n",
       "mlops-zoomcamp                674\n",
       "Name: count, dtype: int64"
      ]
     },
     "execution_count": 28,
     "metadata": {},
     "output_type": "execute_result"
    }
   ],
   "source": [
    "df_eval.course.value_counts()"
   ]
  },
  {
   "cell_type": "code",
   "execution_count": 29,
   "id": "c727359c-ab4b-4f1f-a19c-133a0e05dd96",
   "metadata": {},
   "outputs": [],
   "source": [
    "df_mlops = df_eval[df_eval.course == 'mlops-zoomcamp']"
   ]
  },
  {
   "cell_type": "code",
   "execution_count": 31,
   "id": "7326e2e0-5e0a-4c92-9990-6ec5b5a4b7ee",
   "metadata": {},
   "outputs": [],
   "source": [
    "queries = df_mlops.to_dict(orient='records')"
   ]
  },
  {
   "cell_type": "code",
   "execution_count": 33,
   "id": "ffaf24bd-47b2-4aee-bd3b-6ef3490d0696",
   "metadata": {},
   "outputs": [],
   "source": [
    "q = queries[0]"
   ]
  },
  {
   "cell_type": "code",
   "execution_count": 34,
   "id": "660a5d33-b813-45b2-9967-0e3e9f69116e",
   "metadata": {},
   "outputs": [
    {
     "data": {
      "text/plain": [
       "{'question': 'Where can I find the structure for questions in this course?',\n",
       " 'course': 'mlops-zoomcamp',\n",
       " 'document': '0560e827'}"
      ]
     },
     "execution_count": 34,
     "metadata": {},
     "output_type": "execute_result"
    }
   ],
   "source": [
    "q"
   ]
  },
  {
   "cell_type": "code",
   "execution_count": 61,
   "id": "907e8333-b266-47bc-b7b2-6e96135d8fcc",
   "metadata": {},
   "outputs": [
    {
     "data": {
      "application/vnd.jupyter.widget-view+json": {
       "model_id": "93a83fe3ac7544f6be36b35002fd01b8",
       "version_major": 2,
       "version_minor": 0
      },
      "text/plain": [
       "  0%|          | 0/674 [00:00<?, ?it/s]"
      ]
     },
     "metadata": {},
     "output_type": "display_data"
    }
   ],
   "source": [
    "results = []\n",
    "\n",
    "for q in tqdm(queries):\n",
    "    doc_id = q['document']\n",
    "    docs = retrieve_documents(query=q['question'], course=q['course'])\n",
    "    relevance = [d['doc_id'] == doc_id for d in docs]\n",
    "    results.append(relevance)"
   ]
  },
  {
   "cell_type": "code",
   "execution_count": 55,
   "id": "9854d13f-2cae-4418-909d-dad3a6a7054e",
   "metadata": {},
   "outputs": [
    {
     "data": {
      "text/plain": [
       "[[False, False, False, True, False],\n",
       " [False, True, False, False, False],\n",
       " [True, False, False, False, False],\n",
       " [False, False, False, False, False],\n",
       " [False, False, True, False, False],\n",
       " [True, False, False, False, False],\n",
       " [True, False, False, False, False],\n",
       " [False, True, False, False, False],\n",
       " [False, True, False, False, False],\n",
       " [False, False, False, False, True]]"
      ]
     },
     "execution_count": 55,
     "metadata": {},
     "output_type": "execute_result"
    }
   ],
   "source": [
    "results[:10]"
   ]
  },
  {
   "cell_type": "markdown",
   "id": "44f49bf7-f9e3-4066-8e8f-fde2894203e0",
   "metadata": {},
   "source": [
    "Hitrate\n",
    "    \n",
    "    [[False, False, False, True, False], 1\n",
    "     [False, True, False, False, False], 1\n",
    "     [True, False, False, False, False], 1\n",
    "     [False, False, False, False, False],  0\n",
    "     [False, False, True, False, False], 1\n",
    "     [True, False, False, False, False], 1\n",
    "     [True, False, False, False, False], 1\n",
    "     [False, True, False, False, False], 1\n",
    "     [False, True, False, False, False], 1\n",
    "     [False, False, False, False, True]] 1\n",
    "\n",
    "     hitrate = 90%\n",
    "\n",
    "\n",
    "MRR \n",
    "      1      2      3      4     5    \n",
    "    [[False, False, False, True, False], 0.25\n",
    "     [False, True, False, False, False], 0.5\n",
    "     [True, False, False, False, False], 1\n",
    "     [False, False, False, False, False],  0\n",
    "     [False, False, True, False, False], 0.33\n",
    "     [True, False, False, False, False], 1\n",
    "     [True, False, False, False, False], 1\n",
    "     [False, True, False, False, False], 0.5\n",
    "     [False, True, False, False, False], 0.5\n",
    "     [False, False, False, False, True]] 0.2\n",
    "\n",
    "1 / (rank + 1)"
   ]
  },
  {
   "cell_type": "code",
   "execution_count": 42,
   "id": "3be8347e-242c-4189-8c5c-d73dbc325e0d",
   "metadata": {},
   "outputs": [],
   "source": [
    "def hit_rate(relevance_total):\n",
    "    cnt = 0\n",
    "\n",
    "    for line in relevance_total:\n",
    "        if True in line:\n",
    "            cnt = cnt + 1\n",
    "\n",
    "    return cnt / len(relevance_total)\n",
    "\n",
    "def mrr(relevance_total):\n",
    "    total_score = 0.0\n",
    "\n",
    "    for line in relevance_total:\n",
    "        for rank in range(len(line)):\n",
    "            if line[rank] == True:\n",
    "                total_score = total_score + 1 / (rank + 1)\n",
    "\n",
    "    return total_score / len(relevance_total)"
   ]
  },
  {
   "cell_type": "code",
   "execution_count": 62,
   "id": "92554505-92a2-4d99-a25e-db2afe04fa20",
   "metadata": {},
   "outputs": [
    {
     "data": {
      "text/plain": [
       "(0.9109792284866469, 0.8394411473788325)"
      ]
     },
     "execution_count": 62,
     "metadata": {},
     "output_type": "execute_result"
    }
   ],
   "source": [
    "hit_rate(results), mrr(results)"
   ]
  },
  {
   "cell_type": "code",
   "execution_count": 63,
   "id": "b8c578cf-be0f-4f05-b84a-9819a5639df0",
   "metadata": {},
   "outputs": [
    {
     "data": {
      "text/plain": [
       "(0.9109792284866469, 0.8394411473788325)"
      ]
     },
     "execution_count": 63,
     "metadata": {},
     "output_type": "execute_result"
    }
   ],
   "source": [
    "hit_rate(results), mrr(results)"
   ]
  },
  {
   "cell_type": "markdown",
   "id": "e1cf5e56-16fb-457b-800f-740e4de115d1",
   "metadata": {},
   "source": [
    "LLM as a Judge"
   ]
  },
  {
   "cell_type": "code",
   "execution_count": 80,
   "id": "f7ad20f0-9f4f-49ab-b419-ace98026782d",
   "metadata": {},
   "outputs": [],
   "source": [
    "prompt1_template = \"\"\"\n",
    "You are an expert evaluator for a Retrieval-Augmented Generation (RAG) system.\n",
    "Your task is to analyze the relevance of the generated answer compared to the original answer provided.\n",
    "Based on the relevance and similarity of the generated answer to the original answer, you will classify\n",
    "it as \"NON_RELEVANT\", \"PARTLY_RELEVANT\", or \"RELEVANT\".\n",
    "\n",
    "Here is the data for evaluation:\n",
    "\n",
    "Original Answer: {answer_orig}\n",
    "Generated Question: {question}\n",
    "Generated Answer: {answer_llm}\n",
    "\n",
    "Please analyze the content and context of the generated answer in relation to question form the user\n",
    "also taking into the account the original\n",
    "answer and provide your evaluation in parsable JSON without using code blocks:\n",
    "\n",
    "{{\n",
    "  \"Explanation\": \"[Provide a brief explanation for your evaluation]\",\n",
    "  \"Relevance\": \"NON_RELEVANT\" | \"PARTLY_RELEVANT\" | \"RELEVANT\"\n",
    "}}\n",
    "\"\"\".strip()"
   ]
  },
  {
   "cell_type": "code",
   "execution_count": 74,
   "id": "c4855014-269b-4abc-b0e8-83d0fe0d4f9a",
   "metadata": {},
   "outputs": [],
   "source": [
    "doc_index = {d['doc_id']: d for d in documents}"
   ]
  },
  {
   "cell_type": "code",
   "execution_count": 65,
   "id": "e920b30f-7e87-4027-84f0-c0e261b69787",
   "metadata": {},
   "outputs": [
    {
     "data": {
      "text/plain": [
       "{'question': 'How do you specify the variable file when running terraform destroy?',\n",
       " 'course': 'mlops-zoomcamp',\n",
       " 'document': '886d1617'}"
      ]
     },
     "execution_count": 65,
     "metadata": {},
     "output_type": "execute_result"
    }
   ],
   "source": [
    "q"
   ]
  },
  {
   "cell_type": "code",
   "execution_count": 71,
   "id": "2205b7d7-5e3b-45d9-ae1f-de1b7c0ed46f",
   "metadata": {},
   "outputs": [],
   "source": [
    "generated_answer = qa_bot(user_question=q['question'], course=q['course'])"
   ]
  },
  {
   "cell_type": "code",
   "execution_count": 72,
   "id": "f36f1bf8-1c9a-4caf-b840-cce934147e5c",
   "metadata": {},
   "outputs": [
    {
     "name": "stdout",
     "output_type": "stream",
     "text": [
      "To specify the variable file when running terraform destroy, you would use the following command:\n",
      "\n",
      "```bash\n",
      "terraform destroy --var-file vars/prod.tfvars\n",
      "```\n"
     ]
    }
   ],
   "source": [
    "print(generated_answer)"
   ]
  },
  {
   "cell_type": "code",
   "execution_count": 121,
   "id": "bdf7d1b5-2f66-41d1-bacc-a018e3f188dc",
   "metadata": {},
   "outputs": [],
   "source": [
    "def llm_as_a_judge(q):\n",
    "    generated_answer = qa_bot(user_question=q['question'], course=q['course'])\n",
    "    # print(generated_answer)\n",
    "    doc_original = doc_index[q['document']]\n",
    "\n",
    "    prompt = prompt1_template.format(\n",
    "        answer_orig=doc_original['text'],\n",
    "        question=q['question'],\n",
    "        answer_llm=generated_answer\n",
    "    )\n",
    "\n",
    "    # print(prompt)\n",
    "    relevance = ask_groq(prompt)\n",
    "    # print(relevance)\n",
    "    return generated_answer, relevance"
   ]
  },
  {
   "cell_type": "code",
   "execution_count": 122,
   "id": "16656de6-7e10-4833-9bbf-35ad51fc6779",
   "metadata": {},
   "outputs": [
    {
     "data": {
      "text/plain": [
       "{'question': 'What is the purpose of this FAQ document?',\n",
       " 'course': 'mlops-zoomcamp',\n",
       " 'document': '0560e827',\n",
       " 'judgement': {'Explanation': 'The generated answer directly quotes the original answer in response to a user question that inquires about the purpose of the FAQ document. The generated answer accurately captures the essence of the original answer, providing a precise and clear response to the question.',\n",
       "  'Relevance': 'RELEVANT'}}"
      ]
     },
     "execution_count": 122,
     "metadata": {},
     "output_type": "execute_result"
    }
   ],
   "source": [
    "q"
   ]
  },
  {
   "cell_type": "code",
   "execution_count": 123,
   "id": "2f9d3d01-b864-40e1-9c39-7d74296270c3",
   "metadata": {},
   "outputs": [
    {
     "data": {
      "application/vnd.jupyter.widget-view+json": {
       "model_id": "9f30fc1f90e94990ab75a0cd9d9d5485",
       "version_major": 2,
       "version_minor": 0
      },
      "text/plain": [
       "  0%|          | 0/5 [00:00<?, ?it/s]"
      ]
     },
     "metadata": {},
     "output_type": "display_data"
    }
   ],
   "source": [
    "relevance_judgements = []\n",
    "\n",
    "for q in tqdm(queries[:5]):\n",
    "    try:\n",
    "        answer, judgement = llm_as_a_judge(q)\n",
    "        result = q.copy()\n",
    "        parsed = json.loads(judgement)\n",
    "        result['answer'] = answer\n",
    "        result['explanation'] = parsed['Explanation']\n",
    "        result['relevance'] = parsed['Relevance']\n",
    "        result['original_doc'] = doc_index[q['document']]['text']\n",
    "        relevance_judgements.append(result)\n",
    "    except:\n",
    "        print(f\"problems with parsing answer for {q}\")"
   ]
  },
  {
   "cell_type": "code",
   "execution_count": 124,
   "id": "39b1fa2a-585d-4402-94a9-d5a87eaeaca6",
   "metadata": {
    "scrolled": true
   },
   "outputs": [],
   "source": [
    "df_rel = pd.DataFrame(relevance_judgements)"
   ]
  },
  {
   "cell_type": "code",
   "execution_count": 125,
   "id": "e3ad15f5-4bfe-4d0b-992f-40874c28d955",
   "metadata": {},
   "outputs": [
    {
     "data": {
      "text/plain": [
       "relevance\n",
       "RELEVANT           4\n",
       "PARTLY_RELEVANT    1\n",
       "Name: count, dtype: int64"
      ]
     },
     "execution_count": 125,
     "metadata": {},
     "output_type": "execute_result"
    }
   ],
   "source": [
    "df_rel.relevance.value_counts()"
   ]
  },
  {
   "cell_type": "code",
   "execution_count": 126,
   "id": "da68d03b-0853-4436-b1bc-4ecf414227c2",
   "metadata": {},
   "outputs": [
    {
     "data": {
      "text/plain": [
       "[{'question': 'What should be included in the problem title for my questions?',\n",
       "  'course': 'mlops-zoomcamp',\n",
       "  'document': '0560e827',\n",
       "  'answer': 'According to our FAQ database, for your problem title, you should follow the format: [Problem title]. This should be a clear and concise description of the issue or problem you are experiencing.\\n\\nExample of a properly formatted question:\\nProblem: I cloned the public repo, made edits, committed and pushed them to my own repo. Now I want to get the recent commits from the public repo without overwriting my own changes to my own repo.',\n",
       "  'explanation': 'The generated answer provides guidance on how to structure a problem title in an FAQ, which is slightly related to the original answer. However, the original answer is more focused on providing a template for problem and solution descriptions, and it also references another FAQ document for inspiration. The generated answer only addresses a minor aspect of the original answer and does not capture its full context or provide the same level of guidance.',\n",
       "  'relevance': 'PARTLY_RELEVANT',\n",
       "  'original_doc': 'MLOps Zoomcamp FAQ\\nThe purpose of this document is to capture frequently asked technical questions.\\nWe did this for our data engineering course, and it worked quite well. Check this document for inspiration on how to structure your questions and answers:\\nData Engineering Zoomcamp FAQ\\n[Problem description]\\n[Solution description]\\n(optional) Added by Name',\n",
       "  'judgement': {'Explanation': 'The generated answer provides specific guidance on the format for question titles, which is relevant to the context of structuring questions as per the Data Engineering Zoomcamp FAQ. The format mentioned in the generated answer matches the instructions provided in the original answer. Although the original answer does not explicitly state the format for problem titles, the Data Engineering Zoomcamp FAQ serves as a reference for inspiration on how to structure questions and answers, implying that the generated answer provides a relevant guideline.',\n",
       "   'Relevance': 'RELEVANT'}}]"
      ]
     },
     "execution_count": 126,
     "metadata": {},
     "output_type": "execute_result"
    }
   ],
   "source": [
    "df_rel[df_rel.relevance == 'PARTLY_RELEVANT'].to_dict(orient='records')"
   ]
  },
  {
   "cell_type": "code",
   "execution_count": null,
   "id": "6f288b8c-12ff-495e-ae06-e753a79d4eac",
   "metadata": {},
   "outputs": [],
   "source": []
  }
 ],
 "metadata": {
  "kernelspec": {
   "display_name": "Python 3 (ipykernel)",
   "language": "python",
   "name": "python3"
  },
  "language_info": {
   "codemirror_mode": {
    "name": "ipython",
    "version": 3
   },
   "file_extension": ".py",
   "mimetype": "text/x-python",
   "name": "python",
   "nbconvert_exporter": "python",
   "pygments_lexer": "ipython3",
   "version": "3.12.1"
  }
 },
 "nbformat": 4,
 "nbformat_minor": 5
}
